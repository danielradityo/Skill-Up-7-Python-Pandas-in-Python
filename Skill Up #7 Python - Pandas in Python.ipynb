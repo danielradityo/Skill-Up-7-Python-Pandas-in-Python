{
 "cells": [
  {
   "cell_type": "markdown",
   "metadata": {},
   "source": [
    "# *Import Pandas*"
   ]
  },
  {
   "cell_type": "code",
   "execution_count": 2,
   "metadata": {},
   "outputs": [],
   "source": [
    "import pandas as pd\n",
    "import numpy as np"
   ]
  },
  {
   "cell_type": "markdown",
   "metadata": {},
   "source": [
    "# *Pandas Dictionary*"
   ]
  },
  {
   "cell_type": "code",
   "execution_count": 3,
   "metadata": {},
   "outputs": [
    {
     "data": {
      "text/plain": [
       "{'Alex': 5, 'Ben': 10, 'Carly': 12, 'Danielle': 7, 'Evan': 6}"
      ]
     },
     "execution_count": 3,
     "metadata": {},
     "output_type": "execute_result"
    }
   ],
   "source": [
    "#Create a dictionary\n",
    "\n",
    "my_dict = {'Alex': 5,\n",
    "          'Ben':10,\n",
    "          'Carly':12,\n",
    "          'Danielle':7,\n",
    "          'Evan':6}\n",
    "my_dict"
   ]
  },
  {
   "cell_type": "code",
   "execution_count": 4,
   "metadata": {},
   "outputs": [
    {
     "data": {
      "text/plain": [
       "10"
      ]
     },
     "execution_count": 4,
     "metadata": {},
     "output_type": "execute_result"
    }
   ],
   "source": [
    "#Access Pythin Dictionary\n",
    "my_dict['Ben']"
   ]
  },
  {
   "cell_type": "code",
   "execution_count": 5,
   "metadata": {},
   "outputs": [
    {
     "data": {
      "text/plain": [
       "10"
      ]
     },
     "execution_count": 5,
     "metadata": {},
     "output_type": "execute_result"
    }
   ],
   "source": [
    "my_dict.get('Ben') #rarely use"
   ]
  },
  {
   "cell_type": "code",
   "execution_count": 6,
   "metadata": {},
   "outputs": [
    {
     "data": {
      "text/plain": [
       "{'Alex': 5, 'Ben': 10, 'Carly': 12, 'Danielle': 7, 'Evan': 6, 'Ujang': 10}"
      ]
     },
     "execution_count": 6,
     "metadata": {},
     "output_type": "execute_result"
    }
   ],
   "source": [
    "#Manipulate Python Dictionary\n",
    "# Add value\n",
    "my_dict['Ujang'] = 10\n",
    "my_dict"
   ]
  },
  {
   "cell_type": "code",
   "execution_count": 7,
   "metadata": {},
   "outputs": [
    {
     "data": {
      "text/plain": [
       "{'Alex': 5, 'Ben': 7, 'Carly': 12, 'Danielle': 7, 'Evan': 6, 'Ujang': 10}"
      ]
     },
     "execution_count": 7,
     "metadata": {},
     "output_type": "execute_result"
    }
   ],
   "source": [
    "# Change value\n",
    "my_dict['Ben'] = 7\n",
    "my_dict"
   ]
  },
  {
   "cell_type": "code",
   "execution_count": 8,
   "metadata": {},
   "outputs": [
    {
     "data": {
      "text/plain": [
       "{'Alex': 5, 'Ben': 7, 'Carly': 12, 'Danielle': 7, 'Evan': 6}"
      ]
     },
     "execution_count": 8,
     "metadata": {},
     "output_type": "execute_result"
    }
   ],
   "source": [
    "my_dict.pop('Ujang') # Delete with Pop()\n",
    "my_dict"
   ]
  },
  {
   "cell_type": "code",
   "execution_count": 9,
   "metadata": {},
   "outputs": [
    {
     "data": {
      "text/plain": [
       "{'Ben': 7, 'Carly': 12, 'Danielle': 7, 'Evan': 6}"
      ]
     },
     "execution_count": 9,
     "metadata": {},
     "output_type": "execute_result"
    }
   ],
   "source": [
    "del my_dict['Alex'] # Delete with []\n",
    "my_dict"
   ]
  },
  {
   "cell_type": "code",
   "execution_count": 10,
   "metadata": {},
   "outputs": [
    {
     "name": "stdout",
     "output_type": "stream",
     "text": [
      "This is key Ben with value 7\n",
      "This is key Carly with value 12\n",
      "This is key Danielle with value 7\n",
      "This is key Evan with value 6\n"
     ]
    }
   ],
   "source": [
    "for i, j in my_dict.items():\n",
    "    print(f'This is key {i} with value {j}')"
   ]
  },
  {
   "cell_type": "code",
   "execution_count": 11,
   "metadata": {},
   "outputs": [
    {
     "name": "stdout",
     "output_type": "stream",
     "text": [
      "This is key, Ben with value 7\n",
      "This is key, Carly with value 12\n",
      "This is key, Danielle with value 7\n",
      "This is key, Evan with value 6\n"
     ]
    }
   ],
   "source": [
    "for i, j in my_dict.items():\n",
    "    print('This is key, {} with value {}'.format(i,j))"
   ]
  },
  {
   "cell_type": "code",
   "execution_count": 12,
   "metadata": {},
   "outputs": [
    {
     "name": "stdout",
     "output_type": "stream",
     "text": [
      "Pertama    100\n",
      "Kedua      200\n",
      "Ketiga     300\n",
      "dtype: int64\n"
     ]
    }
   ],
   "source": [
    "# Create the list, array, and the label for creating series\n",
    "theList = [100, 200, 300]\n",
    "theArray = np.array([100, 200, 300])\n",
    "theLabel = ['Pertama', 'Kedua', 'Ketiga']\n",
    "theDict = {'Pertama':100, 'Kedua':200, 'Ketiga':300}\n",
    "\n",
    "theListSeries = pd.Series(data=theList, index=theLabel)\n",
    "theArraySeries = pd.Series(theArray, theLabel)\n",
    "theDictSeries = pd.Series(theDict)\n",
    "\n",
    "print(theListSeries)"
   ]
  },
  {
   "cell_type": "code",
   "execution_count": 13,
   "metadata": {},
   "outputs": [
    {
     "name": "stdout",
     "output_type": "stream",
     "text": [
      "Pertama    100\n",
      "Kedua      200\n",
      "Ketiga     300\n",
      "dtype: int32\n"
     ]
    }
   ],
   "source": [
    "print(theArraySeries)"
   ]
  },
  {
   "cell_type": "code",
   "execution_count": 14,
   "metadata": {},
   "outputs": [
    {
     "name": "stdout",
     "output_type": "stream",
     "text": [
      "Pertama    100\n",
      "Kedua      200\n",
      "Ketiga     300\n",
      "dtype: int64\n"
     ]
    }
   ],
   "source": [
    "print(theDictSeries)"
   ]
  },
  {
   "cell_type": "markdown",
   "metadata": {},
   "source": [
    "## *Creating Data Frame*"
   ]
  },
  {
   "cell_type": "code",
   "execution_count": 15,
   "metadata": {},
   "outputs": [
    {
     "data": {
      "text/html": [
       "<div>\n",
       "<style scoped>\n",
       "    .dataframe tbody tr th:only-of-type {\n",
       "        vertical-align: middle;\n",
       "    }\n",
       "\n",
       "    .dataframe tbody tr th {\n",
       "        vertical-align: top;\n",
       "    }\n",
       "\n",
       "    .dataframe thead th {\n",
       "        text-align: right;\n",
       "    }\n",
       "</style>\n",
       "<table border=\"1\" class=\"dataframe\">\n",
       "  <thead>\n",
       "    <tr style=\"text-align: right;\">\n",
       "      <th></th>\n",
       "      <th>adhi</th>\n",
       "      <th>maya</th>\n",
       "      <th>ujang</th>\n",
       "    </tr>\n",
       "  </thead>\n",
       "  <tbody>\n",
       "    <tr>\n",
       "      <th>1</th>\n",
       "      <td>180</td>\n",
       "      <td>165</td>\n",
       "      <td>170</td>\n",
       "    </tr>\n",
       "    <tr>\n",
       "      <th>2</th>\n",
       "      <td>180</td>\n",
       "      <td>165</td>\n",
       "      <td>170</td>\n",
       "    </tr>\n",
       "    <tr>\n",
       "      <th>3</th>\n",
       "      <td>180</td>\n",
       "      <td>165</td>\n",
       "      <td>170</td>\n",
       "    </tr>\n",
       "  </tbody>\n",
       "</table>\n",
       "</div>"
      ],
      "text/plain": [
       "   adhi  maya  ujang\n",
       "1   180   165    170\n",
       "2   180   165    170\n",
       "3   180   165    170"
      ]
     },
     "execution_count": 15,
     "metadata": {},
     "output_type": "execute_result"
    }
   ],
   "source": [
    "pd.DataFrame({'adhi':180, 'maya':165, 'ujang':170}, index=[1, 2, 3])"
   ]
  },
  {
   "cell_type": "code",
   "execution_count": 16,
   "metadata": {},
   "outputs": [
    {
     "data": {
      "text/html": [
       "<div>\n",
       "<style scoped>\n",
       "    .dataframe tbody tr th:only-of-type {\n",
       "        vertical-align: middle;\n",
       "    }\n",
       "\n",
       "    .dataframe tbody tr th {\n",
       "        vertical-align: top;\n",
       "    }\n",
       "\n",
       "    .dataframe thead th {\n",
       "        text-align: right;\n",
       "    }\n",
       "</style>\n",
       "<table border=\"1\" class=\"dataframe\">\n",
       "  <thead>\n",
       "    <tr style=\"text-align: right;\">\n",
       "      <th></th>\n",
       "      <th>1</th>\n",
       "      <th>2</th>\n",
       "      <th>3</th>\n",
       "    </tr>\n",
       "  </thead>\n",
       "  <tbody>\n",
       "    <tr>\n",
       "      <th>adhi</th>\n",
       "      <td>180</td>\n",
       "      <td>180</td>\n",
       "      <td>180</td>\n",
       "    </tr>\n",
       "    <tr>\n",
       "      <th>maya</th>\n",
       "      <td>165</td>\n",
       "      <td>165</td>\n",
       "      <td>165</td>\n",
       "    </tr>\n",
       "    <tr>\n",
       "      <th>ujang</th>\n",
       "      <td>170</td>\n",
       "      <td>170</td>\n",
       "      <td>170</td>\n",
       "    </tr>\n",
       "  </tbody>\n",
       "</table>\n",
       "</div>"
      ],
      "text/plain": [
       "         1    2    3\n",
       "adhi   180  180  180\n",
       "maya   165  165  165\n",
       "ujang  170  170  170"
      ]
     },
     "execution_count": 16,
     "metadata": {},
     "output_type": "execute_result"
    }
   ],
   "source": [
    "pd.DataFrame({'adhi':180, 'maya':165, 'ujang':170}, index=[1, 2, 3]).transpose()"
   ]
  },
  {
   "cell_type": "code",
   "execution_count": 23,
   "metadata": {},
   "outputs": [
    {
     "data": {
      "text/html": [
       "<div>\n",
       "<style scoped>\n",
       "    .dataframe tbody tr th:only-of-type {\n",
       "        vertical-align: middle;\n",
       "    }\n",
       "\n",
       "    .dataframe tbody tr th {\n",
       "        vertical-align: top;\n",
       "    }\n",
       "\n",
       "    .dataframe thead th {\n",
       "        text-align: right;\n",
       "    }\n",
       "</style>\n",
       "<table border=\"1\" class=\"dataframe\">\n",
       "  <thead>\n",
       "    <tr style=\"text-align: right;\">\n",
       "      <th></th>\n",
       "      <th>Height</th>\n",
       "    </tr>\n",
       "  </thead>\n",
       "  <tbody>\n",
       "    <tr>\n",
       "      <th>adhi</th>\n",
       "      <td>180</td>\n",
       "    </tr>\n",
       "    <tr>\n",
       "      <th>maya</th>\n",
       "      <td>165</td>\n",
       "    </tr>\n",
       "    <tr>\n",
       "      <th>ujang</th>\n",
       "      <td>170</td>\n",
       "    </tr>\n",
       "  </tbody>\n",
       "</table>\n",
       "</div>"
      ],
      "text/plain": [
       "       Height\n",
       "adhi      180\n",
       "maya      165\n",
       "ujang     170"
      ]
     },
     "execution_count": 23,
     "metadata": {},
     "output_type": "execute_result"
    }
   ],
   "source": [
    "dictHeight = {'adhi':180, 'maya':165, 'ujang':170 }\n",
    "seriesHeight = pd.Series(dictTinggi)\n",
    "dataMahasiswa = pd.DataFrame(seriesTinggi, columns=['Height'])\n",
    "dataMahasiswa"
   ]
  },
  {
   "cell_type": "code",
   "execution_count": 38,
   "metadata": {},
   "outputs": [
    {
     "data": {
      "text/html": [
       "<div>\n",
       "<style scoped>\n",
       "    .dataframe tbody tr th:only-of-type {\n",
       "        vertical-align: middle;\n",
       "    }\n",
       "\n",
       "    .dataframe tbody tr th {\n",
       "        vertical-align: top;\n",
       "    }\n",
       "\n",
       "    .dataframe thead th {\n",
       "        text-align: right;\n",
       "    }\n",
       "</style>\n",
       "<table border=\"1\" class=\"dataframe\">\n",
       "  <thead>\n",
       "    <tr style=\"text-align: right;\">\n",
       "      <th></th>\n",
       "      <th>Height</th>\n",
       "      <th>Weight</th>\n",
       "      <th>UniversitY</th>\n",
       "      <th>GPA</th>\n",
       "      <th>Age</th>\n",
       "      <th>IMT</th>\n",
       "      <th>University</th>\n",
       "    </tr>\n",
       "  </thead>\n",
       "  <tbody>\n",
       "    <tr>\n",
       "      <th>adhi</th>\n",
       "      <td>180</td>\n",
       "      <td>80</td>\n",
       "      <td>ITB</td>\n",
       "      <td>3.4</td>\n",
       "      <td>19</td>\n",
       "      <td>0.024691</td>\n",
       "      <td>ITB</td>\n",
       "    </tr>\n",
       "    <tr>\n",
       "      <th>maya</th>\n",
       "      <td>165</td>\n",
       "      <td>55</td>\n",
       "      <td>UI</td>\n",
       "      <td>4.0</td>\n",
       "      <td>20</td>\n",
       "      <td>0.020202</td>\n",
       "      <td>UI</td>\n",
       "    </tr>\n",
       "    <tr>\n",
       "      <th>ujang</th>\n",
       "      <td>170</td>\n",
       "      <td>75</td>\n",
       "      <td>UB</td>\n",
       "      <td>3.2</td>\n",
       "      <td>19</td>\n",
       "      <td>0.025952</td>\n",
       "      <td>UB</td>\n",
       "    </tr>\n",
       "  </tbody>\n",
       "</table>\n",
       "</div>"
      ],
      "text/plain": [
       "       Height  Weight UniversitY  GPA  Age       IMT University\n",
       "adhi      180      80        ITB  3.4   19  0.024691        ITB\n",
       "maya      165      55         UI  4.0   20  0.020202         UI\n",
       "ujang     170      75         UB  3.2   19  0.025952         UB"
      ]
     },
     "execution_count": 38,
     "metadata": {},
     "output_type": "execute_result"
    }
   ],
   "source": [
    "dataMahasiswa['Weight'] = [80,55,75]\n",
    "dataMahasiswa['University'] = ['ITB', 'UI', 'UB']\n",
    "dataMahasiswa['GPA'] = [3.4, 4.0, 3.2]\n",
    "dataMahasiswa['Age'] = [19, 20, 19]\n",
    "dataMahasiswa"
   ]
  },
  {
   "cell_type": "code",
   "execution_count": 39,
   "metadata": {},
   "outputs": [
    {
     "data": {
      "text/html": [
       "<div>\n",
       "<style scoped>\n",
       "    .dataframe tbody tr th:only-of-type {\n",
       "        vertical-align: middle;\n",
       "    }\n",
       "\n",
       "    .dataframe tbody tr th {\n",
       "        vertical-align: top;\n",
       "    }\n",
       "\n",
       "    .dataframe thead th {\n",
       "        text-align: right;\n",
       "    }\n",
       "</style>\n",
       "<table border=\"1\" class=\"dataframe\">\n",
       "  <thead>\n",
       "    <tr style=\"text-align: right;\">\n",
       "      <th></th>\n",
       "      <th>Height</th>\n",
       "      <th>Weight</th>\n",
       "      <th>UniversitY</th>\n",
       "      <th>GPA</th>\n",
       "      <th>Age</th>\n",
       "      <th>IMT</th>\n",
       "      <th>University</th>\n",
       "      <th>BMI</th>\n",
       "    </tr>\n",
       "  </thead>\n",
       "  <tbody>\n",
       "    <tr>\n",
       "      <th>adhi</th>\n",
       "      <td>180</td>\n",
       "      <td>80</td>\n",
       "      <td>ITB</td>\n",
       "      <td>3.4</td>\n",
       "      <td>19</td>\n",
       "      <td>0.024691</td>\n",
       "      <td>ITB</td>\n",
       "      <td>0.024691</td>\n",
       "    </tr>\n",
       "    <tr>\n",
       "      <th>maya</th>\n",
       "      <td>165</td>\n",
       "      <td>55</td>\n",
       "      <td>UI</td>\n",
       "      <td>4.0</td>\n",
       "      <td>20</td>\n",
       "      <td>0.020202</td>\n",
       "      <td>UI</td>\n",
       "      <td>0.020202</td>\n",
       "    </tr>\n",
       "    <tr>\n",
       "      <th>ujang</th>\n",
       "      <td>170</td>\n",
       "      <td>75</td>\n",
       "      <td>UB</td>\n",
       "      <td>3.2</td>\n",
       "      <td>19</td>\n",
       "      <td>0.025952</td>\n",
       "      <td>UB</td>\n",
       "      <td>0.025952</td>\n",
       "    </tr>\n",
       "  </tbody>\n",
       "</table>\n",
       "</div>"
      ],
      "text/plain": [
       "       Height  Weight UniversitY  GPA  Age       IMT University       BMI\n",
       "adhi      180      80        ITB  3.4   19  0.024691        ITB  0.024691\n",
       "maya      165      55         UI  4.0   20  0.020202         UI  0.020202\n",
       "ujang     170      75         UB  3.2   19  0.025952         UB  0.025952"
      ]
     },
     "execution_count": 39,
     "metadata": {},
     "output_type": "execute_result"
    }
   ],
   "source": [
    "#Create a new column\n",
    "dataMahasiswa['BMI'] = dataMahasiswa['Weight']/((dataMahasiswa['Height']/10)*dataMahasiswa['Height'])\n",
    "dataMahasiswa"
   ]
  },
  {
   "cell_type": "code",
   "execution_count": 40,
   "metadata": {},
   "outputs": [
    {
     "name": "stdout",
     "output_type": "stream",
     "text": [
      "       Height  Weight UniversitY  GPA  Age       IMT University\n",
      "adhi      180      80        ITB  3.4   19  0.024691        ITB\n",
      "maya      165      55         UI  4.0   20  0.020202         UI\n",
      "ujang     170      75         UB  3.2   19  0.025952         UB\n",
      "---------------------------------------------------------------------------\n",
      "       Height  Weight UniversitY  GPA  Age       IMT University       BMI\n",
      "adhi      180      80        ITB  3.4   19  0.024691        ITB  0.024691\n",
      "maya      165      55         UI  4.0   20  0.020202         UI  0.020202\n",
      "ujang     170      75         UB  3.2   19  0.025952         UB  0.025952\n"
     ]
    }
   ],
   "source": [
    "#Remove a column without inplace\n",
    "print(dataMahasiswa.drop('BMI', axis=1))\n",
    "print(\"-\"*75)\n",
    "print(dataMahasiswa)"
   ]
  },
  {
   "cell_type": "code",
   "execution_count": 41,
   "metadata": {},
   "outputs": [
    {
     "data": {
      "text/html": [
       "<div>\n",
       "<style scoped>\n",
       "    .dataframe tbody tr th:only-of-type {\n",
       "        vertical-align: middle;\n",
       "    }\n",
       "\n",
       "    .dataframe tbody tr th {\n",
       "        vertical-align: top;\n",
       "    }\n",
       "\n",
       "    .dataframe thead th {\n",
       "        text-align: right;\n",
       "    }\n",
       "</style>\n",
       "<table border=\"1\" class=\"dataframe\">\n",
       "  <thead>\n",
       "    <tr style=\"text-align: right;\">\n",
       "      <th></th>\n",
       "      <th>Height</th>\n",
       "      <th>Weight</th>\n",
       "      <th>UniversitY</th>\n",
       "      <th>GPA</th>\n",
       "      <th>Age</th>\n",
       "      <th>IMT</th>\n",
       "      <th>University</th>\n",
       "    </tr>\n",
       "  </thead>\n",
       "  <tbody>\n",
       "    <tr>\n",
       "      <th>adhi</th>\n",
       "      <td>180</td>\n",
       "      <td>80</td>\n",
       "      <td>ITB</td>\n",
       "      <td>3.4</td>\n",
       "      <td>19</td>\n",
       "      <td>0.024691</td>\n",
       "      <td>ITB</td>\n",
       "    </tr>\n",
       "    <tr>\n",
       "      <th>maya</th>\n",
       "      <td>165</td>\n",
       "      <td>55</td>\n",
       "      <td>UI</td>\n",
       "      <td>4.0</td>\n",
       "      <td>20</td>\n",
       "      <td>0.020202</td>\n",
       "      <td>UI</td>\n",
       "    </tr>\n",
       "    <tr>\n",
       "      <th>ujang</th>\n",
       "      <td>170</td>\n",
       "      <td>75</td>\n",
       "      <td>UB</td>\n",
       "      <td>3.2</td>\n",
       "      <td>19</td>\n",
       "      <td>0.025952</td>\n",
       "      <td>UB</td>\n",
       "    </tr>\n",
       "  </tbody>\n",
       "</table>\n",
       "</div>"
      ],
      "text/plain": [
       "       Height  Weight UniversitY  GPA  Age       IMT University\n",
       "adhi      180      80        ITB  3.4   19  0.024691        ITB\n",
       "maya      165      55         UI  4.0   20  0.020202         UI\n",
       "ujang     170      75         UB  3.2   19  0.025952         UB"
      ]
     },
     "execution_count": 41,
     "metadata": {},
     "output_type": "execute_result"
    }
   ],
   "source": [
    "#Remove a column with inplace\n",
    "dataMahasiswa.drop('BMI', axis=1, inplace=True)\n",
    "dataMahasiswa"
   ]
  },
  {
   "cell_type": "code",
   "execution_count": 42,
   "metadata": {},
   "outputs": [
    {
     "data": {
      "text/html": [
       "<div>\n",
       "<style scoped>\n",
       "    .dataframe tbody tr th:only-of-type {\n",
       "        vertical-align: middle;\n",
       "    }\n",
       "\n",
       "    .dataframe tbody tr th {\n",
       "        vertical-align: top;\n",
       "    }\n",
       "\n",
       "    .dataframe thead th {\n",
       "        text-align: right;\n",
       "    }\n",
       "</style>\n",
       "<table border=\"1\" class=\"dataframe\">\n",
       "  <thead>\n",
       "    <tr style=\"text-align: right;\">\n",
       "      <th></th>\n",
       "      <th>Height</th>\n",
       "      <th>Weight</th>\n",
       "      <th>UniversitY</th>\n",
       "      <th>GPA</th>\n",
       "      <th>Age</th>\n",
       "      <th>IMT</th>\n",
       "      <th>University</th>\n",
       "    </tr>\n",
       "  </thead>\n",
       "  <tbody>\n",
       "    <tr>\n",
       "      <th>adhi</th>\n",
       "      <td>180</td>\n",
       "      <td>80</td>\n",
       "      <td>ITB</td>\n",
       "      <td>3.4</td>\n",
       "      <td>19</td>\n",
       "      <td>0.024691</td>\n",
       "      <td>ITB</td>\n",
       "    </tr>\n",
       "    <tr>\n",
       "      <th>ujang</th>\n",
       "      <td>170</td>\n",
       "      <td>75</td>\n",
       "      <td>UB</td>\n",
       "      <td>3.2</td>\n",
       "      <td>19</td>\n",
       "      <td>0.025952</td>\n",
       "      <td>UB</td>\n",
       "    </tr>\n",
       "  </tbody>\n",
       "</table>\n",
       "</div>"
      ],
      "text/plain": [
       "       Height  Weight UniversitY  GPA  Age       IMT University\n",
       "adhi      180      80        ITB  3.4   19  0.024691        ITB\n",
       "ujang     170      75         UB  3.2   19  0.025952         UB"
      ]
     },
     "execution_count": 42,
     "metadata": {},
     "output_type": "execute_result"
    }
   ],
   "source": [
    "dataMahasiswa[(dataMahasiswa['GPA']>3)&(dataMahasiswa['Age']<20)]"
   ]
  },
  {
   "cell_type": "code",
   "execution_count": 43,
   "metadata": {},
   "outputs": [
    {
     "data": {
      "text/html": [
       "<div>\n",
       "<style scoped>\n",
       "    .dataframe tbody tr th:only-of-type {\n",
       "        vertical-align: middle;\n",
       "    }\n",
       "\n",
       "    .dataframe tbody tr th {\n",
       "        vertical-align: top;\n",
       "    }\n",
       "\n",
       "    .dataframe thead th {\n",
       "        text-align: right;\n",
       "    }\n",
       "</style>\n",
       "<table border=\"1\" class=\"dataframe\">\n",
       "  <thead>\n",
       "    <tr style=\"text-align: right;\">\n",
       "      <th></th>\n",
       "      <th>Height</th>\n",
       "      <th>Weight</th>\n",
       "      <th>UniversitY</th>\n",
       "      <th>GPA</th>\n",
       "      <th>Age</th>\n",
       "      <th>IMT</th>\n",
       "      <th>University</th>\n",
       "    </tr>\n",
       "  </thead>\n",
       "  <tbody>\n",
       "    <tr>\n",
       "      <th>maya</th>\n",
       "      <td>165</td>\n",
       "      <td>55</td>\n",
       "      <td>UI</td>\n",
       "      <td>4.0</td>\n",
       "      <td>20</td>\n",
       "      <td>0.020202</td>\n",
       "      <td>UI</td>\n",
       "    </tr>\n",
       "  </tbody>\n",
       "</table>\n",
       "</div>"
      ],
      "text/plain": [
       "      Height  Weight UniversitY  GPA  Age       IMT University\n",
       "maya     165      55         UI  4.0   20  0.020202         UI"
      ]
     },
     "execution_count": 43,
     "metadata": {},
     "output_type": "execute_result"
    }
   ],
   "source": [
    "dataMahasiswa[dataMahasiswa['University']=='UI']"
   ]
  },
  {
   "cell_type": "code",
   "execution_count": 44,
   "metadata": {},
   "outputs": [
    {
     "name": "stdout",
     "output_type": "stream",
     "text": [
      "adhi     ITB\n",
      "maya      UI\n",
      "ujang     UB\n",
      "Name: University, dtype: object\n",
      "----------------------------------------\n",
      "      University  GPA\n",
      "adhi         ITB  3.4\n",
      "maya          UI  4.0\n",
      "ujang         UB  3.2\n",
      "----------------------------------------\n",
      "adhi     180\n",
      "maya     165\n",
      "ujang    170\n",
      "Name: Height, dtype: int64\n"
     ]
    }
   ],
   "source": [
    "#Select a single variable\n",
    "print(dataMahasiswa['University'])\n",
    "print(\"-\"*40)\n",
    "\n",
    "#select a multiple Variable\n",
    "print(dataMahasiswa[['University', 'GPA']])\n",
    "print(\"-\"*40)\n",
    "\n",
    "# Selecting using SQL Syntax (Not Recommended)\n",
    "print(dataMahasiswa.Height)"
   ]
  },
  {
   "cell_type": "code",
   "execution_count": 45,
   "metadata": {},
   "outputs": [
    {
     "data": {
      "text/html": [
       "<div>\n",
       "<style scoped>\n",
       "    .dataframe tbody tr th:only-of-type {\n",
       "        vertical-align: middle;\n",
       "    }\n",
       "\n",
       "    .dataframe tbody tr th {\n",
       "        vertical-align: top;\n",
       "    }\n",
       "\n",
       "    .dataframe thead th {\n",
       "        text-align: right;\n",
       "    }\n",
       "</style>\n",
       "<table border=\"1\" class=\"dataframe\">\n",
       "  <thead>\n",
       "    <tr style=\"text-align: right;\">\n",
       "      <th></th>\n",
       "      <th>GPA</th>\n",
       "      <th>University</th>\n",
       "    </tr>\n",
       "  </thead>\n",
       "  <tbody>\n",
       "    <tr>\n",
       "      <th>adhi</th>\n",
       "      <td>3.4</td>\n",
       "      <td>ITB</td>\n",
       "    </tr>\n",
       "    <tr>\n",
       "      <th>maya</th>\n",
       "      <td>4.0</td>\n",
       "      <td>UI</td>\n",
       "    </tr>\n",
       "    <tr>\n",
       "      <th>ujang</th>\n",
       "      <td>3.2</td>\n",
       "      <td>UB</td>\n",
       "    </tr>\n",
       "  </tbody>\n",
       "</table>\n",
       "</div>"
      ],
      "text/plain": [
       "       GPA University\n",
       "adhi   3.4        ITB\n",
       "maya   4.0         UI\n",
       "ujang  3.2         UB"
      ]
     },
     "execution_count": 45,
     "metadata": {},
     "output_type": "execute_result"
    }
   ],
   "source": [
    "dataMahasiswa[['GPA', 'University']]"
   ]
  },
  {
   "cell_type": "code",
   "execution_count": null,
   "metadata": {},
   "outputs": [],
   "source": []
  },
  {
   "cell_type": "code",
   "execution_count": 26,
   "metadata": {},
   "outputs": [
    {
     "data": {
      "text/plain": [
       "'C:\\\\Users\\\\danie\\\\Shift Academy Data Science Bootcamp Batch 10'"
      ]
     },
     "execution_count": 26,
     "metadata": {},
     "output_type": "execute_result"
    }
   ],
   "source": [
    "pwd # working directory untuk ngasih file"
   ]
  },
  {
   "cell_type": "code",
   "execution_count": 27,
   "metadata": {},
   "outputs": [],
   "source": [
    "titanic = pd.read_csv('D:\\## MOOC Webinnar dan Pelatihan\\Awardee Shift Academy Data Science Bootcamp 10\\Day 8 Mingggu, 28 Maret 2021\\data_titanic.csv')"
   ]
  },
  {
   "cell_type": "code",
   "execution_count": 28,
   "metadata": {},
   "outputs": [
    {
     "data": {
      "text/html": [
       "<div>\n",
       "<style scoped>\n",
       "    .dataframe tbody tr th:only-of-type {\n",
       "        vertical-align: middle;\n",
       "    }\n",
       "\n",
       "    .dataframe tbody tr th {\n",
       "        vertical-align: top;\n",
       "    }\n",
       "\n",
       "    .dataframe thead th {\n",
       "        text-align: right;\n",
       "    }\n",
       "</style>\n",
       "<table border=\"1\" class=\"dataframe\">\n",
       "  <thead>\n",
       "    <tr style=\"text-align: right;\">\n",
       "      <th></th>\n",
       "      <th>PassengerId</th>\n",
       "      <th>Survived</th>\n",
       "      <th>Pclass</th>\n",
       "      <th>Name</th>\n",
       "      <th>Sex</th>\n",
       "      <th>Age</th>\n",
       "      <th>SibSp</th>\n",
       "      <th>Parch</th>\n",
       "      <th>Ticket</th>\n",
       "      <th>Fare</th>\n",
       "      <th>Cabin</th>\n",
       "      <th>Embarked</th>\n",
       "    </tr>\n",
       "  </thead>\n",
       "  <tbody>\n",
       "    <tr>\n",
       "      <th>0</th>\n",
       "      <td>1</td>\n",
       "      <td>0</td>\n",
       "      <td>3</td>\n",
       "      <td>Braund, Mr. Owen Harris</td>\n",
       "      <td>male</td>\n",
       "      <td>22.0</td>\n",
       "      <td>1</td>\n",
       "      <td>0</td>\n",
       "      <td>A/5 21171</td>\n",
       "      <td>7.2500</td>\n",
       "      <td>NaN</td>\n",
       "      <td>S</td>\n",
       "    </tr>\n",
       "    <tr>\n",
       "      <th>1</th>\n",
       "      <td>2</td>\n",
       "      <td>1</td>\n",
       "      <td>1</td>\n",
       "      <td>Cumings, Mrs. John Bradley (Florence Briggs Th...</td>\n",
       "      <td>female</td>\n",
       "      <td>38.0</td>\n",
       "      <td>1</td>\n",
       "      <td>0</td>\n",
       "      <td>PC 17599</td>\n",
       "      <td>71.2833</td>\n",
       "      <td>C85</td>\n",
       "      <td>C</td>\n",
       "    </tr>\n",
       "    <tr>\n",
       "      <th>2</th>\n",
       "      <td>3</td>\n",
       "      <td>1</td>\n",
       "      <td>3</td>\n",
       "      <td>Heikkinen, Miss. Laina</td>\n",
       "      <td>female</td>\n",
       "      <td>26.0</td>\n",
       "      <td>0</td>\n",
       "      <td>0</td>\n",
       "      <td>STON/O2. 3101282</td>\n",
       "      <td>7.9250</td>\n",
       "      <td>NaN</td>\n",
       "      <td>S</td>\n",
       "    </tr>\n",
       "    <tr>\n",
       "      <th>3</th>\n",
       "      <td>4</td>\n",
       "      <td>1</td>\n",
       "      <td>1</td>\n",
       "      <td>Futrelle, Mrs. Jacques Heath (Lily May Peel)</td>\n",
       "      <td>female</td>\n",
       "      <td>35.0</td>\n",
       "      <td>1</td>\n",
       "      <td>0</td>\n",
       "      <td>113803</td>\n",
       "      <td>53.1000</td>\n",
       "      <td>C123</td>\n",
       "      <td>S</td>\n",
       "    </tr>\n",
       "    <tr>\n",
       "      <th>4</th>\n",
       "      <td>5</td>\n",
       "      <td>0</td>\n",
       "      <td>3</td>\n",
       "      <td>Allen, Mr. William Henry</td>\n",
       "      <td>male</td>\n",
       "      <td>35.0</td>\n",
       "      <td>0</td>\n",
       "      <td>0</td>\n",
       "      <td>373450</td>\n",
       "      <td>8.0500</td>\n",
       "      <td>NaN</td>\n",
       "      <td>S</td>\n",
       "    </tr>\n",
       "  </tbody>\n",
       "</table>\n",
       "</div>"
      ],
      "text/plain": [
       "   PassengerId  Survived  Pclass  \\\n",
       "0            1         0       3   \n",
       "1            2         1       1   \n",
       "2            3         1       3   \n",
       "3            4         1       1   \n",
       "4            5         0       3   \n",
       "\n",
       "                                                Name     Sex   Age  SibSp  \\\n",
       "0                            Braund, Mr. Owen Harris    male  22.0      1   \n",
       "1  Cumings, Mrs. John Bradley (Florence Briggs Th...  female  38.0      1   \n",
       "2                             Heikkinen, Miss. Laina  female  26.0      0   \n",
       "3       Futrelle, Mrs. Jacques Heath (Lily May Peel)  female  35.0      1   \n",
       "4                           Allen, Mr. William Henry    male  35.0      0   \n",
       "\n",
       "   Parch            Ticket     Fare Cabin Embarked  \n",
       "0      0         A/5 21171   7.2500   NaN        S  \n",
       "1      0          PC 17599  71.2833   C85        C  \n",
       "2      0  STON/O2. 3101282   7.9250   NaN        S  \n",
       "3      0            113803  53.1000  C123        S  \n",
       "4      0            373450   8.0500   NaN        S  "
      ]
     },
     "execution_count": 28,
     "metadata": {},
     "output_type": "execute_result"
    }
   ],
   "source": [
    "titanic.head()"
   ]
  },
  {
   "cell_type": "code",
   "execution_count": 29,
   "metadata": {},
   "outputs": [
    {
     "name": "stdout",
     "output_type": "stream",
     "text": [
      "577 314\n"
     ]
    }
   ],
   "source": [
    "# No1\n",
    "nmale = len(titanic[titanic['Sex'] == 'male'])\n",
    "nfemale = len(titanic[titanic['Sex'] == 'female'])\n",
    "print(nmale, nfemale)"
   ]
  },
  {
   "cell_type": "code",
   "execution_count": null,
   "metadata": {},
   "outputs": [],
   "source": []
  },
  {
   "cell_type": "code",
   "execution_count": null,
   "metadata": {},
   "outputs": [],
   "source": []
  }
 ],
 "metadata": {
  "kernelspec": {
   "display_name": "Python 3",
   "language": "python",
   "name": "python3"
  },
  "language_info": {
   "codemirror_mode": {
    "name": "ipython",
    "version": 3
   },
   "file_extension": ".py",
   "mimetype": "text/x-python",
   "name": "python",
   "nbconvert_exporter": "python",
   "pygments_lexer": "ipython3",
   "version": "3.8.5"
  }
 },
 "nbformat": 4,
 "nbformat_minor": 4
}
